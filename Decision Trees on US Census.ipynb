{
 "cells": [
  {
   "cell_type": "code",
   "execution_count": 35,
   "id": "0b314128",
   "metadata": {},
   "outputs": [],
   "source": [
    "#importing EDA Packages\n",
    "import pandas as pd\n",
    "import numpy as np\n",
    "\n",
    "#importing ML Packages\n",
    "from sklearn import preprocessing \n",
    "from keras.models import Sequential\n",
    "from keras.layers import Dense"
   ]
  },
  {
   "cell_type": "code",
   "execution_count": 36,
   "id": "3e2f324e",
   "metadata": {},
   "outputs": [],
   "source": [
    "df = pd.read_csv('USCensusTraining.csv') "
   ]
  },
  {
   "cell_type": "code",
   "execution_count": 37,
   "id": "a09cddab",
   "metadata": {},
   "outputs": [
    {
     "name": "stdout",
     "output_type": "stream",
     "text": [
      "<class 'pandas.core.frame.DataFrame'>\n",
      "RangeIndex: 25000 entries, 0 to 24999\n",
      "Data columns (total 15 columns):\n",
      " #   Column          Non-Null Count  Dtype \n",
      "---  ------          --------------  ----- \n",
      " 0   age             25000 non-null  int64 \n",
      " 1   workclass       25000 non-null  object\n",
      " 2   demogweight     25000 non-null  int64 \n",
      " 3   education       25000 non-null  object\n",
      " 4   education-num   25000 non-null  int64 \n",
      " 5   marital-status  25000 non-null  object\n",
      " 6   occupation      25000 non-null  object\n",
      " 7   relationship    25000 non-null  object\n",
      " 8   race            25000 non-null  object\n",
      " 9   sex             25000 non-null  object\n",
      " 10  capital-gain    25000 non-null  int64 \n",
      " 11  capital-loss    25000 non-null  int64 \n",
      " 12  hours-per-week  25000 non-null  int64 \n",
      " 13  native-country  25000 non-null  object\n",
      " 14  income          25000 non-null  object\n",
      "dtypes: int64(6), object(9)\n",
      "memory usage: 2.9+ MB\n"
     ]
    }
   ],
   "source": [
    "df.info()"
   ]
  },
  {
   "cell_type": "code",
   "execution_count": 38,
   "id": "5973cccd",
   "metadata": {},
   "outputs": [
    {
     "data": {
      "text/html": [
       "<div>\n",
       "<style scoped>\n",
       "    .dataframe tbody tr th:only-of-type {\n",
       "        vertical-align: middle;\n",
       "    }\n",
       "\n",
       "    .dataframe tbody tr th {\n",
       "        vertical-align: top;\n",
       "    }\n",
       "\n",
       "    .dataframe thead th {\n",
       "        text-align: right;\n",
       "    }\n",
       "</style>\n",
       "<table border=\"1\" class=\"dataframe\">\n",
       "  <thead>\n",
       "    <tr style=\"text-align: right;\">\n",
       "      <th></th>\n",
       "      <th>age</th>\n",
       "      <th>workclass</th>\n",
       "      <th>demogweight</th>\n",
       "      <th>education</th>\n",
       "      <th>education-num</th>\n",
       "      <th>marital-status</th>\n",
       "      <th>occupation</th>\n",
       "      <th>relationship</th>\n",
       "      <th>race</th>\n",
       "      <th>sex</th>\n",
       "      <th>capital-gain</th>\n",
       "      <th>capital-loss</th>\n",
       "      <th>hours-per-week</th>\n",
       "      <th>native-country</th>\n",
       "      <th>income</th>\n",
       "    </tr>\n",
       "  </thead>\n",
       "  <tbody>\n",
       "    <tr>\n",
       "      <th>0</th>\n",
       "      <td>39</td>\n",
       "      <td>State-gov</td>\n",
       "      <td>77516</td>\n",
       "      <td>Bachelors</td>\n",
       "      <td>13</td>\n",
       "      <td>Never-married</td>\n",
       "      <td>Adm-clerical</td>\n",
       "      <td>Not-in-family</td>\n",
       "      <td>White</td>\n",
       "      <td>Male</td>\n",
       "      <td>2174</td>\n",
       "      <td>0</td>\n",
       "      <td>40</td>\n",
       "      <td>United-States</td>\n",
       "      <td>&lt;=50K.</td>\n",
       "    </tr>\n",
       "    <tr>\n",
       "      <th>1</th>\n",
       "      <td>50</td>\n",
       "      <td>Self-emp-not-inc</td>\n",
       "      <td>83311</td>\n",
       "      <td>Bachelors</td>\n",
       "      <td>13</td>\n",
       "      <td>Married-civ-spouse</td>\n",
       "      <td>Exec-managerial</td>\n",
       "      <td>Husband</td>\n",
       "      <td>White</td>\n",
       "      <td>Male</td>\n",
       "      <td>0</td>\n",
       "      <td>0</td>\n",
       "      <td>13</td>\n",
       "      <td>United-States</td>\n",
       "      <td>&lt;=50K.</td>\n",
       "    </tr>\n",
       "    <tr>\n",
       "      <th>2</th>\n",
       "      <td>38</td>\n",
       "      <td>Private</td>\n",
       "      <td>215646</td>\n",
       "      <td>HS-grad</td>\n",
       "      <td>9</td>\n",
       "      <td>Divorced</td>\n",
       "      <td>Handlers-cleaners</td>\n",
       "      <td>Not-in-family</td>\n",
       "      <td>White</td>\n",
       "      <td>Male</td>\n",
       "      <td>0</td>\n",
       "      <td>0</td>\n",
       "      <td>40</td>\n",
       "      <td>United-States</td>\n",
       "      <td>&lt;=50K.</td>\n",
       "    </tr>\n",
       "    <tr>\n",
       "      <th>3</th>\n",
       "      <td>53</td>\n",
       "      <td>Private</td>\n",
       "      <td>234721</td>\n",
       "      <td>11th</td>\n",
       "      <td>7</td>\n",
       "      <td>Married-civ-spouse</td>\n",
       "      <td>Handlers-cleaners</td>\n",
       "      <td>Husband</td>\n",
       "      <td>Black</td>\n",
       "      <td>Male</td>\n",
       "      <td>0</td>\n",
       "      <td>0</td>\n",
       "      <td>40</td>\n",
       "      <td>United-States</td>\n",
       "      <td>&lt;=50K.</td>\n",
       "    </tr>\n",
       "    <tr>\n",
       "      <th>4</th>\n",
       "      <td>28</td>\n",
       "      <td>Private</td>\n",
       "      <td>338409</td>\n",
       "      <td>Bachelors</td>\n",
       "      <td>13</td>\n",
       "      <td>Married-civ-spouse</td>\n",
       "      <td>Prof-specialty</td>\n",
       "      <td>Wife</td>\n",
       "      <td>Black</td>\n",
       "      <td>Female</td>\n",
       "      <td>0</td>\n",
       "      <td>0</td>\n",
       "      <td>40</td>\n",
       "      <td>Cuba</td>\n",
       "      <td>&lt;=50K.</td>\n",
       "    </tr>\n",
       "  </tbody>\n",
       "</table>\n",
       "</div>"
      ],
      "text/plain": [
       "   age         workclass  demogweight  education  education-num  \\\n",
       "0   39         State-gov        77516  Bachelors             13   \n",
       "1   50  Self-emp-not-inc        83311  Bachelors             13   \n",
       "2   38           Private       215646    HS-grad              9   \n",
       "3   53           Private       234721       11th              7   \n",
       "4   28           Private       338409  Bachelors             13   \n",
       "\n",
       "       marital-status         occupation   relationship   race     sex  \\\n",
       "0       Never-married       Adm-clerical  Not-in-family  White    Male   \n",
       "1  Married-civ-spouse    Exec-managerial        Husband  White    Male   \n",
       "2            Divorced  Handlers-cleaners  Not-in-family  White    Male   \n",
       "3  Married-civ-spouse  Handlers-cleaners        Husband  Black    Male   \n",
       "4  Married-civ-spouse     Prof-specialty           Wife  Black  Female   \n",
       "\n",
       "   capital-gain  capital-loss  hours-per-week native-country  income  \n",
       "0          2174             0              40  United-States  <=50K.  \n",
       "1             0             0              13  United-States  <=50K.  \n",
       "2             0             0              40  United-States  <=50K.  \n",
       "3             0             0              40  United-States  <=50K.  \n",
       "4             0             0              40           Cuba  <=50K.  "
      ]
     },
     "execution_count": 38,
     "metadata": {},
     "output_type": "execute_result"
    }
   ],
   "source": [
    "df.head()"
   ]
  },
  {
   "cell_type": "code",
   "execution_count": 39,
   "id": "80bf0476",
   "metadata": {},
   "outputs": [
    {
     "data": {
      "text/html": [
       "<div>\n",
       "<style scoped>\n",
       "    .dataframe tbody tr th:only-of-type {\n",
       "        vertical-align: middle;\n",
       "    }\n",
       "\n",
       "    .dataframe tbody tr th {\n",
       "        vertical-align: top;\n",
       "    }\n",
       "\n",
       "    .dataframe thead th {\n",
       "        text-align: right;\n",
       "    }\n",
       "</style>\n",
       "<table border=\"1\" class=\"dataframe\">\n",
       "  <thead>\n",
       "    <tr style=\"text-align: right;\">\n",
       "      <th></th>\n",
       "      <th>age</th>\n",
       "      <th>workclass</th>\n",
       "      <th>demogweight</th>\n",
       "      <th>education</th>\n",
       "      <th>education-num</th>\n",
       "      <th>marital-status</th>\n",
       "      <th>occupation</th>\n",
       "      <th>relationship</th>\n",
       "      <th>race</th>\n",
       "      <th>sex</th>\n",
       "      <th>capital-gain</th>\n",
       "      <th>capital-loss</th>\n",
       "      <th>hours-per-week</th>\n",
       "      <th>native-country</th>\n",
       "      <th>income</th>\n",
       "    </tr>\n",
       "  </thead>\n",
       "  <tbody>\n",
       "    <tr>\n",
       "      <th>24995</th>\n",
       "      <td>41</td>\n",
       "      <td>Private</td>\n",
       "      <td>112507</td>\n",
       "      <td>10th</td>\n",
       "      <td>6</td>\n",
       "      <td>Married-civ-spouse</td>\n",
       "      <td>Transport-moving</td>\n",
       "      <td>Husband</td>\n",
       "      <td>White</td>\n",
       "      <td>Male</td>\n",
       "      <td>0</td>\n",
       "      <td>0</td>\n",
       "      <td>60</td>\n",
       "      <td>United-States</td>\n",
       "      <td>&lt;=50K.</td>\n",
       "    </tr>\n",
       "    <tr>\n",
       "      <th>24996</th>\n",
       "      <td>19</td>\n",
       "      <td>Private</td>\n",
       "      <td>236940</td>\n",
       "      <td>HS-grad</td>\n",
       "      <td>9</td>\n",
       "      <td>Never-married</td>\n",
       "      <td>Farming-fishing</td>\n",
       "      <td>Own-child</td>\n",
       "      <td>White</td>\n",
       "      <td>Male</td>\n",
       "      <td>0</td>\n",
       "      <td>0</td>\n",
       "      <td>40</td>\n",
       "      <td>United-States</td>\n",
       "      <td>&lt;=50K.</td>\n",
       "    </tr>\n",
       "    <tr>\n",
       "      <th>24997</th>\n",
       "      <td>33</td>\n",
       "      <td>Private</td>\n",
       "      <td>278514</td>\n",
       "      <td>HS-grad</td>\n",
       "      <td>9</td>\n",
       "      <td>Divorced</td>\n",
       "      <td>Craft-repair</td>\n",
       "      <td>Own-child</td>\n",
       "      <td>White</td>\n",
       "      <td>Female</td>\n",
       "      <td>0</td>\n",
       "      <td>0</td>\n",
       "      <td>42</td>\n",
       "      <td>United-States</td>\n",
       "      <td>&lt;=50K.</td>\n",
       "    </tr>\n",
       "    <tr>\n",
       "      <th>24998</th>\n",
       "      <td>21</td>\n",
       "      <td>?</td>\n",
       "      <td>433330</td>\n",
       "      <td>Some-college</td>\n",
       "      <td>10</td>\n",
       "      <td>Never-married</td>\n",
       "      <td>?</td>\n",
       "      <td>Unmarried</td>\n",
       "      <td>White</td>\n",
       "      <td>Male</td>\n",
       "      <td>0</td>\n",
       "      <td>0</td>\n",
       "      <td>40</td>\n",
       "      <td>United-States</td>\n",
       "      <td>&lt;=50K.</td>\n",
       "    </tr>\n",
       "    <tr>\n",
       "      <th>24999</th>\n",
       "      <td>25</td>\n",
       "      <td>Private</td>\n",
       "      <td>258379</td>\n",
       "      <td>Bachelors</td>\n",
       "      <td>13</td>\n",
       "      <td>Married-civ-spouse</td>\n",
       "      <td>Prof-specialty</td>\n",
       "      <td>Wife</td>\n",
       "      <td>White</td>\n",
       "      <td>Female</td>\n",
       "      <td>0</td>\n",
       "      <td>0</td>\n",
       "      <td>32</td>\n",
       "      <td>United-States</td>\n",
       "      <td>&lt;=50K.</td>\n",
       "    </tr>\n",
       "  </tbody>\n",
       "</table>\n",
       "</div>"
      ],
      "text/plain": [
       "       age workclass  demogweight     education  education-num  \\\n",
       "24995   41   Private       112507          10th              6   \n",
       "24996   19   Private       236940       HS-grad              9   \n",
       "24997   33   Private       278514       HS-grad              9   \n",
       "24998   21         ?       433330  Some-college             10   \n",
       "24999   25   Private       258379     Bachelors             13   \n",
       "\n",
       "           marital-status        occupation relationship   race     sex  \\\n",
       "24995  Married-civ-spouse  Transport-moving      Husband  White    Male   \n",
       "24996       Never-married   Farming-fishing    Own-child  White    Male   \n",
       "24997            Divorced      Craft-repair    Own-child  White  Female   \n",
       "24998       Never-married                 ?    Unmarried  White    Male   \n",
       "24999  Married-civ-spouse    Prof-specialty         Wife  White  Female   \n",
       "\n",
       "       capital-gain  capital-loss  hours-per-week native-country  income  \n",
       "24995             0             0              60  United-States  <=50K.  \n",
       "24996             0             0              40  United-States  <=50K.  \n",
       "24997             0             0              42  United-States  <=50K.  \n",
       "24998             0             0              40  United-States  <=50K.  \n",
       "24999             0             0              32  United-States  <=50K.  "
      ]
     },
     "execution_count": 39,
     "metadata": {},
     "output_type": "execute_result"
    }
   ],
   "source": [
    "df.tail()"
   ]
  },
  {
   "cell_type": "markdown",
   "id": "9c201276",
   "metadata": {},
   "source": [
    "## Data Preprocessing"
   ]
  },
  {
   "cell_type": "code",
   "execution_count": 40,
   "id": "68dc9e44",
   "metadata": {},
   "outputs": [
    {
     "data": {
      "text/plain": [
       "15"
      ]
     },
     "execution_count": 40,
     "metadata": {},
     "output_type": "execute_result"
    }
   ],
   "source": [
    "#checking for duplicated records\n",
    "df.duplicated().sum()"
   ]
  },
  {
   "cell_type": "code",
   "execution_count": 41,
   "id": "73aeeacd",
   "metadata": {},
   "outputs": [
    {
     "data": {
      "text/plain": [
       "(24985, 15)"
      ]
     },
     "execution_count": 41,
     "metadata": {},
     "output_type": "execute_result"
    }
   ],
   "source": [
    "df = df.drop_duplicates()\n",
    "df.shape"
   ]
  },
  {
   "cell_type": "code",
   "execution_count": 42,
   "id": "50cabb5f",
   "metadata": {},
   "outputs": [
    {
     "name": "stdout",
     "output_type": "stream",
     "text": [
      "<class 'pandas.core.frame.DataFrame'>\n",
      "Int64Index: 24985 entries, 0 to 24999\n",
      "Data columns (total 15 columns):\n",
      " #   Column          Non-Null Count  Dtype \n",
      "---  ------          --------------  ----- \n",
      " 0   age             24985 non-null  int64 \n",
      " 1   workclass       24985 non-null  object\n",
      " 2   demogweight     24985 non-null  int64 \n",
      " 3   education       24985 non-null  object\n",
      " 4   education-num   24985 non-null  int64 \n",
      " 5   marital-status  24985 non-null  object\n",
      " 6   occupation      24985 non-null  object\n",
      " 7   relationship    24985 non-null  object\n",
      " 8   race            24985 non-null  object\n",
      " 9   sex             24985 non-null  object\n",
      " 10  capital-gain    24985 non-null  int64 \n",
      " 11  capital-loss    24985 non-null  int64 \n",
      " 12  hours-per-week  24985 non-null  int64 \n",
      " 13  native-country  24985 non-null  object\n",
      " 14  income          24985 non-null  object\n",
      "dtypes: int64(6), object(9)\n",
      "memory usage: 3.0+ MB\n"
     ]
    }
   ],
   "source": [
    "df.info()"
   ]
  },
  {
   "cell_type": "code",
   "execution_count": 43,
   "id": "025a88cc",
   "metadata": {},
   "outputs": [
    {
     "data": {
      "text/html": [
       "<div>\n",
       "<style scoped>\n",
       "    .dataframe tbody tr th:only-of-type {\n",
       "        vertical-align: middle;\n",
       "    }\n",
       "\n",
       "    .dataframe tbody tr th {\n",
       "        vertical-align: top;\n",
       "    }\n",
       "\n",
       "    .dataframe thead th {\n",
       "        text-align: right;\n",
       "    }\n",
       "</style>\n",
       "<table border=\"1\" class=\"dataframe\">\n",
       "  <thead>\n",
       "    <tr style=\"text-align: right;\">\n",
       "      <th></th>\n",
       "      <th>age</th>\n",
       "      <th>demogweight</th>\n",
       "      <th>education-num</th>\n",
       "      <th>capital-gain</th>\n",
       "      <th>capital-loss</th>\n",
       "      <th>hours-per-week</th>\n",
       "    </tr>\n",
       "  </thead>\n",
       "  <tbody>\n",
       "    <tr>\n",
       "      <th>count</th>\n",
       "      <td>24985.000000</td>\n",
       "      <td>2.498500e+04</td>\n",
       "      <td>24985.000000</td>\n",
       "      <td>24985.000000</td>\n",
       "      <td>24985.000000</td>\n",
       "      <td>24985.000000</td>\n",
       "    </tr>\n",
       "    <tr>\n",
       "      <th>mean</th>\n",
       "      <td>38.610006</td>\n",
       "      <td>1.897559e+05</td>\n",
       "      <td>10.082610</td>\n",
       "      <td>1089.232580</td>\n",
       "      <td>86.551851</td>\n",
       "      <td>40.411287</td>\n",
       "    </tr>\n",
       "    <tr>\n",
       "      <th>std</th>\n",
       "      <td>13.683558</td>\n",
       "      <td>1.052998e+05</td>\n",
       "      <td>2.555684</td>\n",
       "      <td>7488.820755</td>\n",
       "      <td>401.368416</td>\n",
       "      <td>12.298035</td>\n",
       "    </tr>\n",
       "    <tr>\n",
       "      <th>min</th>\n",
       "      <td>17.000000</td>\n",
       "      <td>1.228500e+04</td>\n",
       "      <td>1.000000</td>\n",
       "      <td>0.000000</td>\n",
       "      <td>0.000000</td>\n",
       "      <td>1.000000</td>\n",
       "    </tr>\n",
       "    <tr>\n",
       "      <th>25%</th>\n",
       "      <td>28.000000</td>\n",
       "      <td>1.179630e+05</td>\n",
       "      <td>9.000000</td>\n",
       "      <td>0.000000</td>\n",
       "      <td>0.000000</td>\n",
       "      <td>40.000000</td>\n",
       "    </tr>\n",
       "    <tr>\n",
       "      <th>50%</th>\n",
       "      <td>37.000000</td>\n",
       "      <td>1.783560e+05</td>\n",
       "      <td>10.000000</td>\n",
       "      <td>0.000000</td>\n",
       "      <td>0.000000</td>\n",
       "      <td>40.000000</td>\n",
       "    </tr>\n",
       "    <tr>\n",
       "      <th>75%</th>\n",
       "      <td>48.000000</td>\n",
       "      <td>2.368610e+05</td>\n",
       "      <td>12.000000</td>\n",
       "      <td>0.000000</td>\n",
       "      <td>0.000000</td>\n",
       "      <td>45.000000</td>\n",
       "    </tr>\n",
       "    <tr>\n",
       "      <th>max</th>\n",
       "      <td>90.000000</td>\n",
       "      <td>1.484705e+06</td>\n",
       "      <td>16.000000</td>\n",
       "      <td>99999.000000</td>\n",
       "      <td>4356.000000</td>\n",
       "      <td>99.000000</td>\n",
       "    </tr>\n",
       "  </tbody>\n",
       "</table>\n",
       "</div>"
      ],
      "text/plain": [
       "                age   demogweight  education-num  capital-gain  capital-loss  \\\n",
       "count  24985.000000  2.498500e+04   24985.000000  24985.000000  24985.000000   \n",
       "mean      38.610006  1.897559e+05      10.082610   1089.232580     86.551851   \n",
       "std       13.683558  1.052998e+05       2.555684   7488.820755    401.368416   \n",
       "min       17.000000  1.228500e+04       1.000000      0.000000      0.000000   \n",
       "25%       28.000000  1.179630e+05       9.000000      0.000000      0.000000   \n",
       "50%       37.000000  1.783560e+05      10.000000      0.000000      0.000000   \n",
       "75%       48.000000  2.368610e+05      12.000000      0.000000      0.000000   \n",
       "max       90.000000  1.484705e+06      16.000000  99999.000000   4356.000000   \n",
       "\n",
       "       hours-per-week  \n",
       "count    24985.000000  \n",
       "mean        40.411287  \n",
       "std         12.298035  \n",
       "min          1.000000  \n",
       "25%         40.000000  \n",
       "50%         40.000000  \n",
       "75%         45.000000  \n",
       "max         99.000000  "
      ]
     },
     "execution_count": 43,
     "metadata": {},
     "output_type": "execute_result"
    }
   ],
   "source": [
    "df.describe()"
   ]
  },
  {
   "cell_type": "code",
   "execution_count": 44,
   "id": "ac958e3d",
   "metadata": {},
   "outputs": [
    {
     "name": "stdout",
     "output_type": "stream",
     "text": [
      "age                             90\n",
      "workclass              Without-pay\n",
      "demogweight                1484705\n",
      "education             Some-college\n",
      "education-num                   16\n",
      "marital-status             Widowed\n",
      "occupation        Transport-moving\n",
      "relationship                  Wife\n",
      "race                         White\n",
      "sex                           Male\n",
      "capital-gain                 99999\n",
      "capital-loss                  4356\n",
      "hours-per-week                  99\n",
      "native-country          Yugoslavia\n",
      "income                       >50K.\n",
      "dtype: object\n"
     ]
    }
   ],
   "source": [
    "print(df.max()) #this person recorded 99 work hours per week!!"
   ]
  },
  {
   "cell_type": "code",
   "execution_count": 45,
   "id": "93ab54dc",
   "metadata": {},
   "outputs": [
    {
     "name": "stdout",
     "output_type": "stream",
     "text": [
      "age                               17\n",
      "workclass                          ?\n",
      "demogweight                    12285\n",
      "education                       10th\n",
      "education-num                      1\n",
      "marital-status              Divorced\n",
      "occupation                         ?\n",
      "relationship                 Husband\n",
      "race              Amer-Indian-Eskimo\n",
      "sex                           Female\n",
      "capital-gain                       0\n",
      "capital-loss                       0\n",
      "hours-per-week                     1\n",
      "native-country                     ?\n",
      "income                        <=50K.\n",
      "dtype: object\n"
     ]
    }
   ],
   "source": [
    "print(df.min()) #this person recorded 99 work hours per week!!"
   ]
  },
  {
   "cell_type": "code",
   "execution_count": 46,
   "id": "5133697a",
   "metadata": {},
   "outputs": [
    {
     "data": {
      "text/plain": [
       "age               0\n",
       "workclass         0\n",
       "demogweight       0\n",
       "education         0\n",
       "education-num     0\n",
       "marital-status    0\n",
       "occupation        0\n",
       "relationship      0\n",
       "race              0\n",
       "sex               0\n",
       "capital-gain      0\n",
       "capital-loss      0\n",
       "hours-per-week    0\n",
       "native-country    0\n",
       "income            0\n",
       "dtype: int64"
      ]
     },
     "execution_count": 46,
     "metadata": {},
     "output_type": "execute_result"
    }
   ],
   "source": [
    "#looking for missing values\n",
    "df.isnull().sum()"
   ]
  },
  {
   "cell_type": "code",
   "execution_count": 47,
   "id": "642597e4",
   "metadata": {},
   "outputs": [
    {
     "data": {
      "text/plain": [
       "age                  0\n",
       "workclass         1399\n",
       "demogweight          0\n",
       "education            0\n",
       "education-num        0\n",
       "marital-status       0\n",
       "occupation        1404\n",
       "relationship         0\n",
       "race                 0\n",
       "sex                  0\n",
       "capital-gain         0\n",
       "capital-loss         0\n",
       "hours-per-week       0\n",
       "native-country     444\n",
       "income               0\n",
       "dtype: int64"
      ]
     },
     "execution_count": 47,
     "metadata": {},
     "output_type": "execute_result"
    }
   ],
   "source": [
    "#looking for records containing '?'\n",
    "df.isin(['?']).sum(axis=0)"
   ]
  },
  {
   "cell_type": "code",
   "execution_count": 48,
   "id": "cfa08e8e",
   "metadata": {},
   "outputs": [],
   "source": [
    "df['income'].replace(['<=50K.', '>50K.'],[0, 1], inplace=True)\n",
    "\n",
    "# 0 --> <=50k \n",
    "# 1 --> >50k"
   ]
  },
  {
   "cell_type": "code",
   "execution_count": 49,
   "id": "81f10e94",
   "metadata": {
    "scrolled": false
   },
   "outputs": [
    {
     "data": {
      "text/html": [
       "<div>\n",
       "<style scoped>\n",
       "    .dataframe tbody tr th:only-of-type {\n",
       "        vertical-align: middle;\n",
       "    }\n",
       "\n",
       "    .dataframe tbody tr th {\n",
       "        vertical-align: top;\n",
       "    }\n",
       "\n",
       "    .dataframe thead th {\n",
       "        text-align: right;\n",
       "    }\n",
       "</style>\n",
       "<table border=\"1\" class=\"dataframe\">\n",
       "  <thead>\n",
       "    <tr style=\"text-align: right;\">\n",
       "      <th></th>\n",
       "      <th>age</th>\n",
       "      <th>workclass</th>\n",
       "      <th>demogweight</th>\n",
       "      <th>education</th>\n",
       "      <th>education-num</th>\n",
       "      <th>marital-status</th>\n",
       "      <th>occupation</th>\n",
       "      <th>relationship</th>\n",
       "      <th>race</th>\n",
       "      <th>sex</th>\n",
       "      <th>capital-gain</th>\n",
       "      <th>capital-loss</th>\n",
       "      <th>hours-per-week</th>\n",
       "      <th>native-country</th>\n",
       "      <th>income</th>\n",
       "    </tr>\n",
       "  </thead>\n",
       "  <tbody>\n",
       "    <tr>\n",
       "      <th>0</th>\n",
       "      <td>39</td>\n",
       "      <td>State-gov</td>\n",
       "      <td>77516</td>\n",
       "      <td>Bachelors</td>\n",
       "      <td>13</td>\n",
       "      <td>Never-married</td>\n",
       "      <td>Adm-clerical</td>\n",
       "      <td>Not-in-family</td>\n",
       "      <td>White</td>\n",
       "      <td>Male</td>\n",
       "      <td>2174</td>\n",
       "      <td>0</td>\n",
       "      <td>40</td>\n",
       "      <td>United-States</td>\n",
       "      <td>0</td>\n",
       "    </tr>\n",
       "    <tr>\n",
       "      <th>1</th>\n",
       "      <td>50</td>\n",
       "      <td>Self-emp-not-inc</td>\n",
       "      <td>83311</td>\n",
       "      <td>Bachelors</td>\n",
       "      <td>13</td>\n",
       "      <td>Married-civ-spouse</td>\n",
       "      <td>Exec-managerial</td>\n",
       "      <td>Husband</td>\n",
       "      <td>White</td>\n",
       "      <td>Male</td>\n",
       "      <td>0</td>\n",
       "      <td>0</td>\n",
       "      <td>13</td>\n",
       "      <td>United-States</td>\n",
       "      <td>0</td>\n",
       "    </tr>\n",
       "    <tr>\n",
       "      <th>2</th>\n",
       "      <td>38</td>\n",
       "      <td>Private</td>\n",
       "      <td>215646</td>\n",
       "      <td>HS-grad</td>\n",
       "      <td>9</td>\n",
       "      <td>Divorced</td>\n",
       "      <td>Handlers-cleaners</td>\n",
       "      <td>Not-in-family</td>\n",
       "      <td>White</td>\n",
       "      <td>Male</td>\n",
       "      <td>0</td>\n",
       "      <td>0</td>\n",
       "      <td>40</td>\n",
       "      <td>United-States</td>\n",
       "      <td>0</td>\n",
       "    </tr>\n",
       "    <tr>\n",
       "      <th>3</th>\n",
       "      <td>53</td>\n",
       "      <td>Private</td>\n",
       "      <td>234721</td>\n",
       "      <td>11th</td>\n",
       "      <td>7</td>\n",
       "      <td>Married-civ-spouse</td>\n",
       "      <td>Handlers-cleaners</td>\n",
       "      <td>Husband</td>\n",
       "      <td>Black</td>\n",
       "      <td>Male</td>\n",
       "      <td>0</td>\n",
       "      <td>0</td>\n",
       "      <td>40</td>\n",
       "      <td>United-States</td>\n",
       "      <td>0</td>\n",
       "    </tr>\n",
       "    <tr>\n",
       "      <th>4</th>\n",
       "      <td>28</td>\n",
       "      <td>Private</td>\n",
       "      <td>338409</td>\n",
       "      <td>Bachelors</td>\n",
       "      <td>13</td>\n",
       "      <td>Married-civ-spouse</td>\n",
       "      <td>Prof-specialty</td>\n",
       "      <td>Wife</td>\n",
       "      <td>Black</td>\n",
       "      <td>Female</td>\n",
       "      <td>0</td>\n",
       "      <td>0</td>\n",
       "      <td>40</td>\n",
       "      <td>Cuba</td>\n",
       "      <td>0</td>\n",
       "    </tr>\n",
       "  </tbody>\n",
       "</table>\n",
       "</div>"
      ],
      "text/plain": [
       "   age         workclass  demogweight  education  education-num  \\\n",
       "0   39         State-gov        77516  Bachelors             13   \n",
       "1   50  Self-emp-not-inc        83311  Bachelors             13   \n",
       "2   38           Private       215646    HS-grad              9   \n",
       "3   53           Private       234721       11th              7   \n",
       "4   28           Private       338409  Bachelors             13   \n",
       "\n",
       "       marital-status         occupation   relationship   race     sex  \\\n",
       "0       Never-married       Adm-clerical  Not-in-family  White    Male   \n",
       "1  Married-civ-spouse    Exec-managerial        Husband  White    Male   \n",
       "2            Divorced  Handlers-cleaners  Not-in-family  White    Male   \n",
       "3  Married-civ-spouse  Handlers-cleaners        Husband  Black    Male   \n",
       "4  Married-civ-spouse     Prof-specialty           Wife  Black  Female   \n",
       "\n",
       "   capital-gain  capital-loss  hours-per-week native-country  income  \n",
       "0          2174             0              40  United-States       0  \n",
       "1             0             0              13  United-States       0  \n",
       "2             0             0              40  United-States       0  \n",
       "3             0             0              40  United-States       0  \n",
       "4             0             0              40           Cuba       0  "
      ]
     },
     "execution_count": 49,
     "metadata": {},
     "output_type": "execute_result"
    }
   ],
   "source": [
    "df.head()"
   ]
  },
  {
   "cell_type": "code",
   "execution_count": 50,
   "id": "87e97c8d",
   "metadata": {},
   "outputs": [
    {
     "data": {
      "text/html": [
       "<div>\n",
       "<style scoped>\n",
       "    .dataframe tbody tr th:only-of-type {\n",
       "        vertical-align: middle;\n",
       "    }\n",
       "\n",
       "    .dataframe tbody tr th {\n",
       "        vertical-align: top;\n",
       "    }\n",
       "\n",
       "    .dataframe thead th {\n",
       "        text-align: right;\n",
       "    }\n",
       "</style>\n",
       "<table border=\"1\" class=\"dataframe\">\n",
       "  <thead>\n",
       "    <tr style=\"text-align: right;\">\n",
       "      <th></th>\n",
       "      <th>age</th>\n",
       "      <th>workclass</th>\n",
       "      <th>demogweight</th>\n",
       "      <th>education</th>\n",
       "      <th>education-num</th>\n",
       "      <th>marital-status</th>\n",
       "      <th>occupation</th>\n",
       "      <th>relationship</th>\n",
       "      <th>race</th>\n",
       "      <th>sex</th>\n",
       "      <th>hours-per-week</th>\n",
       "      <th>native-country</th>\n",
       "      <th>income</th>\n",
       "      <th>net-capital</th>\n",
       "    </tr>\n",
       "  </thead>\n",
       "  <tbody>\n",
       "    <tr>\n",
       "      <th>0</th>\n",
       "      <td>39</td>\n",
       "      <td>State-gov</td>\n",
       "      <td>77516</td>\n",
       "      <td>Bachelors</td>\n",
       "      <td>13</td>\n",
       "      <td>Never-married</td>\n",
       "      <td>Adm-clerical</td>\n",
       "      <td>Not-in-family</td>\n",
       "      <td>White</td>\n",
       "      <td>Male</td>\n",
       "      <td>40</td>\n",
       "      <td>United-States</td>\n",
       "      <td>0</td>\n",
       "      <td>2174</td>\n",
       "    </tr>\n",
       "    <tr>\n",
       "      <th>1</th>\n",
       "      <td>50</td>\n",
       "      <td>Self-emp-not-inc</td>\n",
       "      <td>83311</td>\n",
       "      <td>Bachelors</td>\n",
       "      <td>13</td>\n",
       "      <td>Married-civ-spouse</td>\n",
       "      <td>Exec-managerial</td>\n",
       "      <td>Husband</td>\n",
       "      <td>White</td>\n",
       "      <td>Male</td>\n",
       "      <td>13</td>\n",
       "      <td>United-States</td>\n",
       "      <td>0</td>\n",
       "      <td>0</td>\n",
       "    </tr>\n",
       "    <tr>\n",
       "      <th>2</th>\n",
       "      <td>38</td>\n",
       "      <td>Private</td>\n",
       "      <td>215646</td>\n",
       "      <td>HS-grad</td>\n",
       "      <td>9</td>\n",
       "      <td>Divorced</td>\n",
       "      <td>Handlers-cleaners</td>\n",
       "      <td>Not-in-family</td>\n",
       "      <td>White</td>\n",
       "      <td>Male</td>\n",
       "      <td>40</td>\n",
       "      <td>United-States</td>\n",
       "      <td>0</td>\n",
       "      <td>0</td>\n",
       "    </tr>\n",
       "    <tr>\n",
       "      <th>3</th>\n",
       "      <td>53</td>\n",
       "      <td>Private</td>\n",
       "      <td>234721</td>\n",
       "      <td>11th</td>\n",
       "      <td>7</td>\n",
       "      <td>Married-civ-spouse</td>\n",
       "      <td>Handlers-cleaners</td>\n",
       "      <td>Husband</td>\n",
       "      <td>Black</td>\n",
       "      <td>Male</td>\n",
       "      <td>40</td>\n",
       "      <td>United-States</td>\n",
       "      <td>0</td>\n",
       "      <td>0</td>\n",
       "    </tr>\n",
       "    <tr>\n",
       "      <th>4</th>\n",
       "      <td>28</td>\n",
       "      <td>Private</td>\n",
       "      <td>338409</td>\n",
       "      <td>Bachelors</td>\n",
       "      <td>13</td>\n",
       "      <td>Married-civ-spouse</td>\n",
       "      <td>Prof-specialty</td>\n",
       "      <td>Wife</td>\n",
       "      <td>Black</td>\n",
       "      <td>Female</td>\n",
       "      <td>40</td>\n",
       "      <td>Cuba</td>\n",
       "      <td>0</td>\n",
       "      <td>0</td>\n",
       "    </tr>\n",
       "  </tbody>\n",
       "</table>\n",
       "</div>"
      ],
      "text/plain": [
       "   age         workclass  demogweight  education  education-num  \\\n",
       "0   39         State-gov        77516  Bachelors             13   \n",
       "1   50  Self-emp-not-inc        83311  Bachelors             13   \n",
       "2   38           Private       215646    HS-grad              9   \n",
       "3   53           Private       234721       11th              7   \n",
       "4   28           Private       338409  Bachelors             13   \n",
       "\n",
       "       marital-status         occupation   relationship   race     sex  \\\n",
       "0       Never-married       Adm-clerical  Not-in-family  White    Male   \n",
       "1  Married-civ-spouse    Exec-managerial        Husband  White    Male   \n",
       "2            Divorced  Handlers-cleaners  Not-in-family  White    Male   \n",
       "3  Married-civ-spouse  Handlers-cleaners        Husband  Black    Male   \n",
       "4  Married-civ-spouse     Prof-specialty           Wife  Black  Female   \n",
       "\n",
       "   hours-per-week native-country  income  net-capital  \n",
       "0              40  United-States       0         2174  \n",
       "1              13  United-States       0            0  \n",
       "2              40  United-States       0            0  \n",
       "3              40  United-States       0            0  \n",
       "4              40           Cuba       0            0  "
      ]
     },
     "execution_count": 50,
     "metadata": {},
     "output_type": "execute_result"
    }
   ],
   "source": [
    "df['net-capital'] = df['capital-gain'] - df['capital-loss']\n",
    "df = df.drop(['capital-gain','capital-loss'], axis=1)  \n",
    "df.head()"
   ]
  },
  {
   "cell_type": "markdown",
   "id": "c69a72dd",
   "metadata": {},
   "source": [
    "## Category Encoding"
   ]
  },
  {
   "cell_type": "code",
   "execution_count": 51,
   "id": "96f224d6",
   "metadata": {},
   "outputs": [],
   "source": [
    "\n",
    "occupation_vars = ['?', 'Adm-clerical','Armed-Forces', 'Craft-repair', 'Exec-managerial', 'Farming-fishing',\n",
    "                          'Handlers-cleaners', 'Machine-op-inspct', 'Other-service', 'Priv-house-serv', 'Prof-specialty',\n",
    "                          'Protective-serv', 'Sales', 'Tech-support', 'Transport-moving']\n",
    "\n",
    "df['occupation'].replace(occupation_vars,\n",
    "\n",
    "                         [0, 1, 2, 3, 4,\\\n",
    "                          5, 6, 7, 8, 9,\\\n",
    "                          10, 11, 12, 13, 14], inplace=True)\n",
    "    \n",
    "education_vars = ['10th', '11th', '12th', '1st-4th', '5th-6th', '7th-8th',\\\n",
    "                         '9th', 'Assoc-acdm', 'Assoc-voc', 'Bachelors','Doctorate',\\\n",
    "                         'HS-grad', 'Masters', 'Preschool', 'Prof-school', 'Some-college']\n",
    "\n",
    "df['education'].replace(education_vars,\n",
    "    \n",
    "                        [0, 1, 2, 3, 4, 5,\\\n",
    "                         6, 7, 8, 9, 10,\\\n",
    "                         11, 12, 13, 14, 15], inplace=True)\n",
    "      \n",
    "\n",
    "cat_variable = ['workclass', 'marital-status',\\\n",
    "                             'relationship','relationship','race','sex','native-country']\n",
    "    \n",
    "\n",
    "# converting type of columns to 'category'\n",
    "\n",
    "for cat in cat_variable:\n",
    "    df[cat] = df[cat].astype('category')\n",
    "    # Assigning numerical values and storing in another column\n",
    "    df[cat] =df[cat].cat.codes"
   ]
  },
  {
   "cell_type": "code",
   "execution_count": 52,
   "id": "6cff4055",
   "metadata": {},
   "outputs": [
    {
     "data": {
      "text/html": [
       "<div>\n",
       "<style scoped>\n",
       "    .dataframe tbody tr th:only-of-type {\n",
       "        vertical-align: middle;\n",
       "    }\n",
       "\n",
       "    .dataframe tbody tr th {\n",
       "        vertical-align: top;\n",
       "    }\n",
       "\n",
       "    .dataframe thead th {\n",
       "        text-align: right;\n",
       "    }\n",
       "</style>\n",
       "<table border=\"1\" class=\"dataframe\">\n",
       "  <thead>\n",
       "    <tr style=\"text-align: right;\">\n",
       "      <th></th>\n",
       "      <th>age</th>\n",
       "      <th>workclass</th>\n",
       "      <th>demogweight</th>\n",
       "      <th>education</th>\n",
       "      <th>education-num</th>\n",
       "      <th>marital-status</th>\n",
       "      <th>occupation</th>\n",
       "      <th>relationship</th>\n",
       "      <th>race</th>\n",
       "      <th>sex</th>\n",
       "      <th>hours-per-week</th>\n",
       "      <th>native-country</th>\n",
       "      <th>income</th>\n",
       "      <th>net-capital</th>\n",
       "    </tr>\n",
       "  </thead>\n",
       "  <tbody>\n",
       "    <tr>\n",
       "      <th>0</th>\n",
       "      <td>39</td>\n",
       "      <td>7</td>\n",
       "      <td>77516</td>\n",
       "      <td>9</td>\n",
       "      <td>13</td>\n",
       "      <td>4</td>\n",
       "      <td>1</td>\n",
       "      <td>1</td>\n",
       "      <td>4</td>\n",
       "      <td>1</td>\n",
       "      <td>40</td>\n",
       "      <td>39</td>\n",
       "      <td>0</td>\n",
       "      <td>2174</td>\n",
       "    </tr>\n",
       "    <tr>\n",
       "      <th>1</th>\n",
       "      <td>50</td>\n",
       "      <td>6</td>\n",
       "      <td>83311</td>\n",
       "      <td>9</td>\n",
       "      <td>13</td>\n",
       "      <td>2</td>\n",
       "      <td>4</td>\n",
       "      <td>0</td>\n",
       "      <td>4</td>\n",
       "      <td>1</td>\n",
       "      <td>13</td>\n",
       "      <td>39</td>\n",
       "      <td>0</td>\n",
       "      <td>0</td>\n",
       "    </tr>\n",
       "    <tr>\n",
       "      <th>2</th>\n",
       "      <td>38</td>\n",
       "      <td>4</td>\n",
       "      <td>215646</td>\n",
       "      <td>11</td>\n",
       "      <td>9</td>\n",
       "      <td>0</td>\n",
       "      <td>6</td>\n",
       "      <td>1</td>\n",
       "      <td>4</td>\n",
       "      <td>1</td>\n",
       "      <td>40</td>\n",
       "      <td>39</td>\n",
       "      <td>0</td>\n",
       "      <td>0</td>\n",
       "    </tr>\n",
       "    <tr>\n",
       "      <th>3</th>\n",
       "      <td>53</td>\n",
       "      <td>4</td>\n",
       "      <td>234721</td>\n",
       "      <td>1</td>\n",
       "      <td>7</td>\n",
       "      <td>2</td>\n",
       "      <td>6</td>\n",
       "      <td>0</td>\n",
       "      <td>2</td>\n",
       "      <td>1</td>\n",
       "      <td>40</td>\n",
       "      <td>39</td>\n",
       "      <td>0</td>\n",
       "      <td>0</td>\n",
       "    </tr>\n",
       "    <tr>\n",
       "      <th>4</th>\n",
       "      <td>28</td>\n",
       "      <td>4</td>\n",
       "      <td>338409</td>\n",
       "      <td>9</td>\n",
       "      <td>13</td>\n",
       "      <td>2</td>\n",
       "      <td>10</td>\n",
       "      <td>5</td>\n",
       "      <td>2</td>\n",
       "      <td>0</td>\n",
       "      <td>40</td>\n",
       "      <td>5</td>\n",
       "      <td>0</td>\n",
       "      <td>0</td>\n",
       "    </tr>\n",
       "  </tbody>\n",
       "</table>\n",
       "</div>"
      ],
      "text/plain": [
       "   age  workclass  demogweight  education  education-num  marital-status  \\\n",
       "0   39          7        77516          9             13               4   \n",
       "1   50          6        83311          9             13               2   \n",
       "2   38          4       215646         11              9               0   \n",
       "3   53          4       234721          1              7               2   \n",
       "4   28          4       338409          9             13               2   \n",
       "\n",
       "   occupation  relationship  race  sex  hours-per-week  native-country  \\\n",
       "0           1             1     4    1              40              39   \n",
       "1           4             0     4    1              13              39   \n",
       "2           6             1     4    1              40              39   \n",
       "3           6             0     2    1              40              39   \n",
       "4          10             5     2    0              40               5   \n",
       "\n",
       "   income  net-capital  \n",
       "0       0         2174  \n",
       "1       0            0  \n",
       "2       0            0  \n",
       "3       0            0  \n",
       "4       0            0  "
      ]
     },
     "execution_count": 52,
     "metadata": {},
     "output_type": "execute_result"
    }
   ],
   "source": [
    "df.head()"
   ]
  },
  {
   "cell_type": "markdown",
   "id": "5b195d8d",
   "metadata": {},
   "source": [
    "## a. Generate a neural network to predict income using the other attributes"
   ]
  },
  {
   "cell_type": "code",
   "execution_count": 53,
   "id": "503555e1",
   "metadata": {},
   "outputs": [],
   "source": [
    "X = df.drop(['income'], axis=1)\n",
    "columns = X.columns\n",
    "\n",
    "#Normalizing the data\n",
    "from sklearn.preprocessing import StandardScaler\n",
    "sc = StandardScaler()\n",
    "sc.fit(X)\n",
    "\n",
    "X = sc.transform(X)\n",
    "\n",
    "y = df['income'].values"
   ]
  },
  {
   "cell_type": "code",
   "execution_count": 54,
   "id": "b13ab5d2",
   "metadata": {},
   "outputs": [],
   "source": [
    "from sklearn.model_selection import train_test_split\n",
    "#split train data and test data\n",
    "X_train, X_val, y_train, y_val = train_test_split(\\\n",
    "    X, y, test_size=0.33, random_state=42)"
   ]
  },
  {
   "cell_type": "code",
   "execution_count": 55,
   "id": "acc55929",
   "metadata": {
    "scrolled": true
   },
   "outputs": [
    {
     "name": "stdout",
     "output_type": "stream",
     "text": [
      "Epoch 1/10\n",
      "262/262 [==============================] - 2s 4ms/step - loss: 0.4665 - accuracy: 0.7776 - val_loss: 0.4154 - val_accuracy: 0.8052\n",
      "Epoch 2/10\n",
      "262/262 [==============================] - 1s 3ms/step - loss: 0.3810 - accuracy: 0.8225 - val_loss: 0.3760 - val_accuracy: 0.8256\n",
      "Epoch 3/10\n",
      "262/262 [==============================] - 1s 4ms/step - loss: 0.3566 - accuracy: 0.8320 - val_loss: 0.3573 - val_accuracy: 0.8347\n",
      "Epoch 4/10\n",
      "262/262 [==============================] - 1s 3ms/step - loss: 0.3431 - accuracy: 0.8389 - val_loss: 0.3481 - val_accuracy: 0.8408\n",
      "Epoch 5/10\n",
      "262/262 [==============================] - 1s 3ms/step - loss: 0.3356 - accuracy: 0.8424 - val_loss: 0.3438 - val_accuracy: 0.8426\n",
      "Epoch 6/10\n",
      "262/262 [==============================] - 1s 3ms/step - loss: 0.3319 - accuracy: 0.8441 - val_loss: 0.3420 - val_accuracy: 0.8413\n",
      "Epoch 7/10\n",
      "262/262 [==============================] - 1s 3ms/step - loss: 0.3297 - accuracy: 0.8444 - val_loss: 0.3402 - val_accuracy: 0.8410\n",
      "Epoch 8/10\n",
      "262/262 [==============================] - 1s 3ms/step - loss: 0.3281 - accuracy: 0.8472 - val_loss: 0.3406 - val_accuracy: 0.8425\n",
      "Epoch 9/10\n",
      "262/262 [==============================] - 1s 4ms/step - loss: 0.3264 - accuracy: 0.8473 - val_loss: 0.3382 - val_accuracy: 0.8423\n",
      "Epoch 10/10\n",
      "262/262 [==============================] - 1s 4ms/step - loss: 0.3250 - accuracy: 0.8472 - val_loss: 0.3376 - val_accuracy: 0.8421\n"
     ]
    },
    {
     "data": {
      "text/plain": [
       "<keras.callbacks.History at 0x1ee38f30640>"
      ]
     },
     "execution_count": 55,
     "metadata": {},
     "output_type": "execute_result"
    }
   ],
   "source": [
    "# define the keras model\n",
    "model = Sequential()\n",
    "model.add(Dense(16, input_shape=(13,), activation='relu'))\n",
    "model.add(Dense(12, activation='relu'))\n",
    "model.add(Dense(1, activation='sigmoid'))    \n",
    "\n",
    "# compile the keras model\n",
    "model.compile(loss='binary_crossentropy', optimizer='adam', metrics=['accuracy'])\n",
    "\n",
    "\n",
    "# fit the keras model on the dataset\n",
    "model.fit(X_train, y_train, epochs=10,  batch_size=64, verbose=1, validation_data=(X_val, y_val))"
   ]
  },
  {
   "cell_type": "markdown",
   "id": "dbda6920",
   "metadata": {},
   "source": [
    "A NN consists of an input layer, two hidden layers, and one output layer."
   ]
  },
  {
   "cell_type": "code",
   "execution_count": 56,
   "id": "8035eb26",
   "metadata": {},
   "outputs": [
    {
     "data": {
      "text/html": [
       "<img src=\"NN.png\" width=\"300\" class=\"unconfined\"/>"
      ],
      "text/plain": [
       "<IPython.core.display.Image object>"
      ]
     },
     "metadata": {},
     "output_type": "display_data"
    }
   ],
   "source": [
    "from IPython.core.display import Image, display\n",
    "display(Image(url='NN.png', width=300, unconfined=True))\n"
   ]
  },
  {
   "cell_type": "markdown",
   "id": "c2f18a2b",
   "metadata": {},
   "source": [
    "## b. which are the most important variables for predicting income?"
   ]
  },
  {
   "cell_type": "code",
   "execution_count": 57,
   "id": "70cdbdaa",
   "metadata": {
    "scrolled": true
   },
   "outputs": [
    {
     "data": {
      "image/png": "[encoded data removed]",
      "text/plain": [
       "<Figure size 432x288 with 1 Axes>"
      ]
     },
     "metadata": {
      "needs_background": "light"
     },
     "output_type": "display_data"
    }
   ],
   "source": [
    "from sklearn.ensemble import ExtraTreesClassifier\n",
    "from matplotlib import pyplot as plt\n",
    "\n",
    "clf = ExtraTreesClassifier(n_estimators=10)\n",
    "\n",
    "clf.fit(X_train, y_train)\n",
    "\n",
    "\n",
    "importances = pd.DataFrame(data={\n",
    "    'Attribute':columns,\n",
    "    'Importance': clf.feature_importances_\n",
    "})\n",
    "importances = importances.sort_values(by='Importance', ascending=False)\n",
    "\n",
    "plt.bar(x=importances['Attribute'], height=importances['Importance'], color='#087E8B')\n",
    "plt.title('Feature importances', size=20)\n",
    "plt.xticks(rotation='vertical')\n",
    "plt.show()\n"
   ]
  },
  {
   "cell_type": "markdown",
   "id": "f3a41604",
   "metadata": {},
   "source": [
    "The most important variables for predicting income is age"
   ]
  },
  {
   "cell_type": "markdown",
   "id": "e1476f01",
   "metadata": {},
   "source": [
    "## c. What is the predicted accuracy? What does this number mean?"
   ]
  },
  {
   "cell_type": "code",
   "execution_count": 58,
   "id": "45a910c7",
   "metadata": {},
   "outputs": [
    {
     "name": "stdout",
     "output_type": "stream",
     "text": [
      "258/258 [==============================] - 1s 2ms/step\n",
      "Accuracy: 0.8421052631578947\n"
     ]
    }
   ],
   "source": [
    " #make class predictions with the model\n",
    "predictions = (model.predict(X_val) > 0.5).astype(int)\n",
    "# Model Accuracy, how often is the classifier correct?\n",
    "print(\"Accuracy:\",metrics.accuracy_score(y_val, predictions))"
   ]
  },
  {
   "cell_type": "markdown",
   "id": "51aa553f",
   "metadata": {},
   "source": [
    "The predicted accuray is 84.2%. \n",
    "This means that 84.2% of the predicted values agree with the actual values."
   ]
  },
  {
   "cell_type": "markdown",
   "id": "1982d2a9",
   "metadata": {},
   "source": [
    "## d. Compare the predicted income with actual income. Which error is the model more prone to making? Is this type of error more protective of, say, banks of loan applications?\n"
   ]
  },
  {
   "cell_type": "code",
   "execution_count": 59,
   "id": "61d458d7",
   "metadata": {},
   "outputs": [
    {
     "data": {
      "image/png": "[encoded data removed]",
      "text/plain": [
       "<Figure size 432x288 with 2 Axes>"
      ]
     },
     "metadata": {
      "needs_background": "light"
     },
     "output_type": "display_data"
    }
   ],
   "source": [
    "from sklearn import metrics\n",
    "confusion_matrix = metrics.confusion_matrix(y_val, predictions)\n",
    "cm_display = metrics.ConfusionMatrixDisplay(confusion_matrix = confusion_matrix, display_labels = [0, 1])\n",
    "\n",
    "cm_display.plot()\n",
    "plt.show()"
   ]
  },
  {
   "cell_type": "markdown",
   "id": "d02ed3cc",
   "metadata": {},
   "source": [
    "## e. Which occupations are associated with predicted income over 50k?   Which education levels?  Which ages? Is this intuitive? Construct graphs of the top three categorical predictors, and their relationship to predicted income. Make sure you fine-tune these graphs, and arrange the graphs so that they are truly helpful.\n"
   ]
  },
  {
   "cell_type": "code",
   "execution_count": 60,
   "id": "1ec02060",
   "metadata": {},
   "outputs": [
    {
     "name": "stdout",
     "output_type": "stream",
     "text": [
      "Correlation coefficient between occupation  and the predicted income over 50000\n",
      "?\n",
      "[[ 1.         -0.06610765]\n",
      " [-0.06610765  1.        ]]\n",
      "Adm-clerical\n",
      "[[ 1.         -0.08802552]\n",
      " [-0.08802552  1.        ]]\n",
      "Armed-Forces\n",
      "[[ 1.         -0.00752954]\n",
      " [-0.00752954  1.        ]]\n",
      "Craft-repair\n",
      "[[ 1.         -0.04609144]\n",
      " [-0.04609144  1.        ]]\n",
      "Exec-managerial\n",
      "[[1.         0.17718685]\n",
      " [0.17718685 1.        ]]\n",
      "Farming-fishing\n",
      "[[ 1.         -0.04320436]\n",
      " [-0.04320436  1.        ]]\n",
      "Handlers-cleaners\n",
      "[[ 1.        -0.0795069]\n",
      " [-0.0795069  1.       ]]\n",
      "Machine-op-inspct\n",
      "[[ 1.         -0.07743312]\n",
      " [-0.07743312  1.        ]]\n",
      "Other-service\n",
      "[[ 1.         -0.13473384]\n",
      " [-0.13473384  1.        ]]\n",
      "Priv-house-serv\n",
      "[[ 1.         -0.02977235]\n",
      " [-0.02977235  1.        ]]\n",
      "Prof-specialty\n",
      "[[1.         0.24464838]\n",
      " [0.24464838 1.        ]]\n",
      "Protective-serv\n",
      "[[ 1.         -0.00180387]\n",
      " [-0.00180387  1.        ]]\n",
      "Sales\n",
      "[[1.         0.04033079]\n",
      " [0.04033079 1.        ]]\n",
      "Tech-support\n",
      "[[1.         0.01480212]\n",
      " [0.01480212 1.        ]]\n",
      "Transport-moving\n",
      "[[ 1.         -0.05280515]\n",
      " [-0.05280515  1.        ]]\n",
      "\n",
      "\n",
      "Correlation coefficient between education  and the predicted income over 50000\n",
      "10th\n",
      "[[ 1.         -0.08860183]\n",
      " [-0.08860183  1.        ]]\n",
      "11th\n",
      "[[ 1.         -0.09472694]\n",
      " [-0.09472694  1.        ]]\n",
      "12th\n",
      "[[ 1.         -0.05269325]\n",
      " [-0.05269325  1.        ]]\n",
      "1st-4th\n",
      "[[ 1.         -0.03245473]\n",
      " [-0.03245473  1.        ]]\n",
      "5th-6th\n",
      "[[ 1.         -0.04754497]\n",
      " [-0.04754497  1.        ]]\n",
      "7th-8th\n",
      "[[ 1.         -0.06620312]\n",
      " [-0.06620312  1.        ]]\n",
      "9th\n",
      "[[ 1.         -0.05672562]\n",
      " [-0.05672562  1.        ]]\n",
      "Assoc-acdm\n",
      "[[1.         0.06107188]\n",
      " [0.06107188 1.        ]]\n",
      "Assoc-voc\n",
      "[[1.         0.01151052]\n",
      " [0.01151052 1.        ]]\n",
      "Bachelors\n",
      "[[1.         0.30702083]\n",
      " [0.30702083 1.        ]]\n",
      "Doctorate\n",
      "[[1.         0.17258456]\n",
      " [0.17258456 1.        ]]\n",
      "HS-grad\n",
      "[[ 1.         -0.26421685]\n",
      " [-0.26421685  1.        ]]\n",
      "Masters\n",
      "[[1.         0.27896648]\n",
      " [0.27896648 1.        ]]\n",
      "Preschool\n",
      "[[ 1.         -0.02323156]\n",
      " [-0.02323156  1.        ]]\n",
      "Prof-school\n",
      "[[1.         0.21086167]\n",
      " [0.21086167 1.        ]]\n",
      "Some-college\n",
      "[[ 1.         -0.11741282]\n",
      " [-0.11741282  1.        ]]\n",
      "\n",
      "\n",
      "Correlation coefficient between age <=30  and the predicted income over 50000\n",
      "[[ 1.         -0.28751999]\n",
      " [-0.28751999  1.        ]]\n",
      "\n",
      "\n",
      "Correlation coefficient between 30 < age <=40  and the predicted income over 50000\n",
      "[[1.         0.03417315]\n",
      " [0.03417315 1.        ]]\n",
      "\n",
      "\n",
      "Correlation coefficient between 40 < age <=50  and the predicted income over 50000\n",
      "[[1.         0.19115091]\n",
      " [0.19115091 1.        ]]\n",
      "\n",
      "\n",
      "Correlation coefficient between age >50  and the predicted income over 50000\n",
      "[[1.         0.10672728]\n",
      " [0.10672728 1.        ]]\n"
     ]
    }
   ],
   "source": [
    "import numpy as np\n",
    "X_test2 = sc.inverse_transform(X_val)\n",
    "\n",
    "X_test2_df = pd.DataFrame(data={\n",
    "    'Attribute':columns,\n",
    "    'Importance': clf.feature_importances_\n",
    "})\n",
    "\n",
    "X_test2_df = pd.DataFrame(data = X_test2, \n",
    "                  columns = columns)\n",
    "\n",
    "#Correlation coefficient between occupation  and the predicted income over 50000\n",
    "print('Correlation coefficient between occupation  and the predicted income over 50000')\n",
    "\n",
    "for k in range(15):\n",
    "\n",
    "    corr1 = np.corrcoef((X_test2_df['occupation']==k).astype(int).values, predictions.reshape((predictions.shape[0],)))\n",
    "    print(occupation_vars[k])\n",
    "    print(corr1)\n",
    "\n",
    "print(\"\")\n",
    "print(\"\")\n",
    "\n",
    "print('Correlation coefficient between education  and the predicted income over 50000')\n",
    "\n",
    "for k in range(16):\n",
    "\n",
    "    corr1 = np.corrcoef((X_test2_df['education']==k).astype(int).values, predictions.reshape((predictions.shape[0],)))\n",
    "    print(education_vars[k])\n",
    "    print(corr1)\n",
    "    \n",
    "print(\"\")\n",
    "print(\"\")\n",
    "print('Correlation coefficient between age <=30  and the predicted income over 50000')\n",
    "\n",
    "corr1 = np.corrcoef((X_test2_df['age']<=30).astype(int).values, predictions.reshape((predictions.shape[0],)))\n",
    "print(corr1)\n",
    "\n",
    "\n",
    "print(\"\")\n",
    "print(\"\")\n",
    "print('Correlation coefficient between 30 < age <=40  and the predicted income over 50000')\n",
    "corr1 = np.corrcoef(((X_test2_df['age']>30) & (X_test2_df['age']<=40)).astype(int).values, predictions.reshape((predictions.shape[0],)))\n",
    "print(corr1)\n",
    "\n",
    "print(\"\")\n",
    "print(\"\")\n",
    "print('Correlation coefficient between 40 < age <=50  and the predicted income over 50000')\n",
    "corr1 = np.corrcoef(((X_test2_df['age']>40) & (X_test2_df['age']<=50)).astype(int).values, predictions.reshape((predictions.shape[0],)))\n",
    "print(corr1)\n",
    "\n",
    "\n",
    "print(\"\")\n",
    "print(\"\")\n",
    "print('Correlation coefficient between age >50  and the predicted income over 50000')\n",
    "corr1 = np.corrcoef((X_test2_df['age'] > 50).astype(int).values, predictions.reshape((predictions.shape[0],)))\n",
    "print(corr1)\n",
    "\n"
   ]
  },
  {
   "cell_type": "code",
   "execution_count": 65,
   "id": "e9168635",
   "metadata": {},
   "outputs": [
    {
     "data": {
      "image/png": "[encoded data removed]",
      "text/plain": [
       "<Figure size 432x288 with 1 Axes>"
      ]
     },
     "metadata": {
      "needs_background": "light"
     },
     "output_type": "display_data"
    }
   ],
   "source": [
    "# Visualizing the top 3 jobs associated with income over 50k\n",
    "\n",
    "corrs = [0.24464838, 0.17718685,0.04033079]\n",
    "\n",
    "vars_ = ['Prof-specialty','Exec-managerial', 'Sales' ] \n",
    "\n",
    "plt.bar(vars_, corrs, color ='maroon',\n",
    "        width = 0.4)\n",
    " \n",
    "plt.xlabel(\"Categorical predictors\")\n",
    "plt.ylabel(\"Correlation coefficient\")\n",
    "\n",
    "plt.show()"
   ]
  },
  {
   "cell_type": "code",
   "execution_count": 69,
   "id": "f1cff076",
   "metadata": {},
   "outputs": [
    {
     "data": {
      "image/png": "[encoded data removed]",
      "text/plain": [
       "<Figure size 432x288 with 1 Axes>"
      ]
     },
     "metadata": {
      "needs_background": "light"
     },
     "output_type": "display_data"
    }
   ],
   "source": [
    "# Visualizing the top 3 education levels associated with income over 50k\n",
    "\n",
    "corrs = [0.21086167, 0.30702083, 0.27896648]\n",
    "\n",
    "vars_ = ['Prof-school','Bachelors', 'Masters'] \n",
    "\n",
    "plt.bar(vars_, corrs, color ='maroon',\n",
    "        width = 0.4)\n",
    " \n",
    "plt.xlabel(\"Categorical predictors\")\n",
    "plt.ylabel(\"Correlation coefficient\")\n",
    "\n",
    "plt.show()"
   ]
  },
  {
   "cell_type": "code",
   "execution_count": 70,
   "id": "d616d173",
   "metadata": {},
   "outputs": [
    {
     "data": {
      "image/png": "[encoded data removed]",
      "text/plain": [
       "<Figure size 432x288 with 1 Axes>"
      ]
     },
     "metadata": {
      "needs_background": "light"
     },
     "output_type": "display_data"
    }
   ],
   "source": [
    "# Visualizing the top 3 age ranges associated with income over 50k\n",
    "\n",
    "corrs = [0.19115091, 0.10672728, 0.03417315]\n",
    "\n",
    "vars_ = ['40 < age <= 50', 'age > 50', '30 < age <= 40'] \n",
    "\n",
    "plt.bar(vars_, corrs, color ='maroon',\n",
    "        width = 0.4)\n",
    " \n",
    "plt.xlabel(\"Categorical predictors\")\n",
    "plt.ylabel(\"Correlation coefficient\")\n",
    "\n",
    "plt.show()"
   ]
  },
  {
   "cell_type": "markdown",
   "id": "6f73fae2",
   "metadata": {},
   "source": [
    "## f. Construct a histogram of one numeric variable which is important in the model, with an overlay of income.(You may wish to use \"normalize\" to increase contrast) Then construct a histogram of one numeric varaible which is not important is the model, with an overlay of income. Do the histograms support the findings ot the nerual networks?"
   ]
  },
  {
   "cell_type": "code",
   "execution_count": 68,
   "id": "f550811e",
   "metadata": {},
   "outputs": [
    {
     "data": {
      "image/png": "[encoded data removed]",
      "text/plain": [
       "<Figure size 432x288 with 1 Axes>"
      ]
     },
     "metadata": {
      "needs_background": "light"
     },
     "output_type": "display_data"
    },
    {
     "data": {
      "image/png": "[encoded data removed]",
      "text/plain": [
       "<Figure size 432x288 with 1 Axes>"
      ]
     },
     "metadata": {
      "needs_background": "light"
     },
     "output_type": "display_data"
    },
    {
     "data": {
      "image/png": "[encoded data removed]",
      "text/plain": [
       "<Figure size 432x288 with 1 Axes>"
      ]
     },
     "metadata": {
      "needs_background": "light"
     },
     "output_type": "display_data"
    }
   ],
   "source": [
    "from sklearn import preprocessing\n",
    "\n",
    "demogweight = X_test2_df['demogweight'].values\n",
    "\n",
    "demogweight = (demogweight - min(demogweight))/(max(demogweight) - min(demogweight))\n",
    "plt.hist(demogweight)\n",
    "plt.hist(predictions)\n",
    "plt.title('Histogram of demogweight')\n",
    "plt.show()\n",
    "\n",
    "\n",
    "hours_per_week = X_test2_df['hours-per-week'].values\n",
    "\n",
    "hours_per_week = (hours_per_week - min(hours_per_week))/(max(hours_per_week) - min(hours_per_week))\n",
    "plt.hist(hours_per_week)\n",
    "plt.hist(predictions)\n",
    "plt.title('Histogram of hours per week')\n",
    "plt.show()\n",
    "\n",
    "\n",
    "age = X_test2_df['age'].values\n",
    "\n",
    "age = (age - min(age))/(max(age) - min(age))\n",
    "plt.hist(age)\n",
    "plt.hist(predictions)\n",
    "plt.title('Histogram of age')\n",
    "plt.show()\n"
   ]
  },
  {
   "cell_type": "markdown",
   "id": "c8e965b0",
   "metadata": {},
   "source": [
    "First figure is a histogram of one numeric variable which is not important in the model.\n",
    "\n",
    "Second and third figures are histograms of numeric variables which are important in the model\n",
    "\n",
    "The histograms support the findings of the nerual network model"
   ]
  },
  {
   "cell_type": "markdown",
   "id": "031eb004",
   "metadata": {},
   "source": [
    "# Part Two"
   ]
  },
  {
   "cell_type": "code",
   "execution_count": 74,
   "id": "7633adab",
   "metadata": {
    "scrolled": true
   },
   "outputs": [
    {
     "name": "stdout",
     "output_type": "stream",
     "text": [
      "Epoch 1/10\n",
      "391/391 [==============================] - 2s 3ms/step - loss: 0.4531 - accuracy: 0.7767\n",
      "Epoch 2/10\n",
      "391/391 [==============================] - 1s 3ms/step - loss: 0.3620 - accuracy: 0.8317\n",
      "Epoch 3/10\n",
      "391/391 [==============================] - 1s 3ms/step - loss: 0.3463 - accuracy: 0.8391\n",
      "Epoch 4/10\n",
      "391/391 [==============================] - 1s 2ms/step - loss: 0.3398 - accuracy: 0.8427\n",
      "Epoch 5/10\n",
      "391/391 [==============================] - 1s 3ms/step - loss: 0.3361 - accuracy: 0.8449\n",
      "Epoch 6/10\n",
      "391/391 [==============================] - 1s 3ms/step - loss: 0.3339 - accuracy: 0.8447\n",
      "Epoch 7/10\n",
      "391/391 [==============================] - 1s 2ms/step - loss: 0.3320 - accuracy: 0.8458\n",
      "Epoch 8/10\n",
      "391/391 [==============================] - 1s 2ms/step - loss: 0.3303 - accuracy: 0.8471\n",
      "Epoch 9/10\n",
      "391/391 [==============================] - 1s 3ms/step - loss: 0.3288 - accuracy: 0.8459\n",
      "Epoch 10/10\n",
      "391/391 [==============================] - 1s 3ms/step - loss: 0.3277 - accuracy: 0.8455\n"
     ]
    },
    {
     "data": {
      "text/plain": [
       "<keras.callbacks.History at 0x1ee40370b20>"
      ]
     },
     "execution_count": 74,
     "metadata": {},
     "output_type": "execute_result"
    }
   ],
   "source": [
    "# Best NN model & training model with full dataset\n",
    "model = Sequential()\n",
    "model.add(Dense(16, input_shape=(13,), activation='relu'))\n",
    "model.add(Dense(12, activation='relu'))\n",
    "model.add(Dense(1, activation='sigmoid'))    \n",
    "\n",
    "# compile the keras model\n",
    "model.compile(loss='binary_crossentropy', optimizer='adam', metrics=['accuracy'])\n",
    "\n",
    "\n",
    "# fit the keras model on the dataset\n",
    "model.fit(X, y, epochs=10,  batch_size=64, verbose=1)"
   ]
  },
  {
   "cell_type": "markdown",
   "id": "996272a2",
   "metadata": {},
   "source": [
    "## Prediction"
   ]
  },
  {
   "cell_type": "code",
   "execution_count": 72,
   "id": "494d965a",
   "metadata": {},
   "outputs": [
    {
     "name": "stdout",
     "output_type": "stream",
     "text": [
      "237/237 [==============================] - 0s 679us/step\n"
     ]
    }
   ],
   "source": [
    "df2 = pd.read_csv('USCensusTest.csv')\n",
    "\n",
    "df2['net-capital'] = df2['capital-gain'] - df2['capital-loss']\n",
    "df2 = df2.drop(['capital-gain','capital-loss'], axis=1)    \n",
    "\n",
    "\n",
    "\n",
    "\n",
    "### category encoding\n",
    "\n",
    "occupation_vars = ['?', 'Adm-clerical','Armed-Forces', 'Craft-repair', 'Exec-managerial', 'Farming-fishing',\n",
    "                          'Handlers-cleaners', 'Machine-op-inspct', 'Other-service', 'Priv-house-serv', 'Prof-specialty',\n",
    "                          'Protective-serv', 'Sales', 'Tech-support', 'Transport-moving']\n",
    "\n",
    "df2['occupation'].replace(occupation_vars,\n",
    "\n",
    "                         [0, 1, 2, 3, 4,\\\n",
    "                          5, 6, 7, 8, 9,\\\n",
    "                          10, 11, 12, 13, 14], inplace=True)\n",
    "    \n",
    "education_vars = ['10th', '11th', '12th', '1st-4th', '5th-6th', '7th-8th',\\\n",
    "                         '9th', 'Assoc-acdm', 'Assoc-voc', 'Bachelors','Doctorate',\\\n",
    "                         'HS-grad', 'Masters', 'Preschool', 'Prof-school', 'Some-college']\n",
    "\n",
    "df2['education'].replace(education_vars,\n",
    "    \n",
    "                        [0, 1, 2, 3, 4, 5,\\\n",
    "                         6, 7, 8, 9, 10,\\\n",
    "                         11, 12, 13, 14, 15], inplace=True)\n",
    "      \n",
    "\n",
    "cat_variable = ['workclass', 'marital-status',\\\n",
    "                             'relationship','relationship','race','sex','native-country']\n",
    "    \n",
    "\n",
    "# converting type of columns to 'category'\n",
    "\n",
    "for cat in cat_variable:\n",
    "    df2[cat] = df2[cat].astype('category')\n",
    "    # Assigning numerical values and storing in another column\n",
    "    df2[cat] =df2[cat].cat.codes\n",
    "    \n",
    "\n",
    "#Normalizing the data\n",
    "\n",
    "X_test = sc.transform(df2)\n",
    "\n",
    "\n",
    "# make class predictions with the model\n",
    "predictions = (model.predict(X_test) > 0.5).astype(int)\n",
    "\n",
    "\n",
    "lines = []\n",
    "\n",
    "for pred in predictions:\n",
    "    lines.append(str(pred[0]))\n",
    "\n",
    "with open('Team_18_Predictions.txt', 'w') as f:\n",
    "    f.write('\\n'.join(lines))\n",
    "\n"
   ]
  },
  {
   "cell_type": "markdown",
   "id": "27669588",
   "metadata": {},
   "source": [
    "## CART algorithm"
   ]
  },
  {
   "cell_type": "code",
   "execution_count": 73,
   "id": "d6be6637",
   "metadata": {},
   "outputs": [
    {
     "name": "stdout",
     "output_type": "stream",
     "text": [
      "Accuracy: 0.8063303419839922\n"
     ]
    }
   ],
   "source": [
    "## scikit-learn uses an optimized version of the CART algorithm\n",
    "\n",
    "from sklearn import tree\n",
    "clf = tree.DecisionTreeClassifier()\n",
    "\n",
    "# Train Decision Tree Classifer\n",
    "clf = clf.fit(X_train,y_train)\n",
    "\n",
    "#Predict the response for test dataset\n",
    "y_pred = clf.predict(X_val)\n",
    "\n",
    "# Model Accuracy, how often is the classifier correct?\n",
    "print(\"Accuracy:\",metrics.accuracy_score(y_val, y_pred))"
   ]
  },
  {
   "cell_type": "code",
   "execution_count": null,
   "id": "734b3654",
   "metadata": {},
   "outputs": [],
   "source": []
  }
 ],
 "metadata": {
  "kernelspec": {
   "display_name": "Python 3 (ipykernel)",
   "language": "python",
   "name": "python3"
  },
  "language_info": {
   "codemirror_mode": {
    "name": "ipython",
    "version": 3
   },
   "file_extension": ".py",
   "mimetype": "text/x-python",
   "name": "python",
   "nbconvert_exporter": "python",
   "pygments_lexer": "ipython3",
   "version": "3.8.13"
  }
 },
 "nbformat": 4,
 "nbformat_minor": 5
}
